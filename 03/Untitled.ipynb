{
 "cells": [
  {
   "cell_type": "code",
   "execution_count": 1,
   "id": "d51bf2e9",
   "metadata": {},
   "outputs": [],
   "source": [
    "    text1 = \"\"\"<!DOCTYPE html>\n",
    "            <html>\n",
    "            <head>\n",
    "                <title>Заголовки и абзацы</title>\n",
    "                <meta charset=\"utf-8\">\n",
    "            </head>\n",
    "            <body>\n",
    "                <h1>Заголовок<br>первого уровня</h1>\n",
    "                <h2>Заголовок второго уровня</h2>\n",
    "                <h3>Заголовок третьего уровня</h3>\n",
    "                <h4>Заголовок четвертого уровня</h4>\n",
    "                <h5>Заголовок пятого уровня</h5>\n",
    "                <h6>Заголовок шестого уровня</h6>\n",
    "                <hr>\n",
    "                <p>Тест абзаца</p>\n",
    "            </body>\n",
    "            </html>\"\"\""
   ]
  },
  {
   "cell_type": "code",
   "execution_count": 2,
   "id": "5eb3c84b",
   "metadata": {},
   "outputs": [
    {
     "data": {
      "text/plain": [
       "'<!DOCTYPE html>\\n        <html>\\n        <head>\\n            <title>Заголовки и абзацы</title>\\n            <meta charset=\"utf-8\">\\n        </head>\\n        <body>\\n            <h1>Заголовок<br>первого уровня</h1>\\n            <h2>Заголовок второго уровня</h2>\\n            <h3>Заголовок третьего уровня</h3>\\n            <h4>Заголовок четвертого уровня</h4>\\n            <h5>Заголовок пятого уровня</h5>\\n            <h6>Заголовок шестого уровня</h6>\\n            <hr>\\n            <p>Тест абзаца</p>\\n        </body>\\n        </html>'"
      ]
     },
     "execution_count": 2,
     "metadata": {},
     "output_type": "execute_result"
    }
   ],
   "source": [
    "text1"
   ]
  },
  {
   "cell_type": "code",
   "execution_count": null,
   "id": "b9052168",
   "metadata": {},
   "outputs": [],
   "source": []
  }
 ],
 "metadata": {
  "kernelspec": {
   "display_name": "Python 3 (ipykernel)",
   "language": "python",
   "name": "python3"
  },
  "language_info": {
   "codemirror_mode": {
    "name": "ipython",
    "version": 3
   },
   "file_extension": ".py",
   "mimetype": "text/x-python",
   "name": "python",
   "nbconvert_exporter": "python",
   "pygments_lexer": "ipython3",
   "version": "3.7.11"
  }
 },
 "nbformat": 4,
 "nbformat_minor": 5
}
